{
 "cells": [
  {
   "cell_type": "code",
   "execution_count": null,
   "id": "0",
   "metadata": {},
   "outputs": [],
   "source": [
    "%load_ext autoreload\n",
    "%autoreload 2"
   ]
  },
  {
   "cell_type": "code",
   "execution_count": null,
   "id": "1",
   "metadata": {},
   "outputs": [],
   "source": [
    "import numpy as np\n",
    "import matplotlib.pyplot as plt"
   ]
  },
  {
   "cell_type": "code",
   "execution_count": null,
   "id": "2",
   "metadata": {},
   "outputs": [],
   "source": [
    "from src.geometry import setup_geometry, shepp_logan\n",
    "from src.plot import animate_S_D\n",
    "from IPython.display import HTML\n",
    "\n",
    "\n",
    "N_pixels = 256\n",
    "R_obj = 125\n",
    "D_sd = 1000\n",
    "D_so = 500\n",
    "N_det = 16\n",
    "N_views = 50\n",
    "view_range = 2 * np.pi\n",
    "mode = \"equiangular\"\n",
    "\n",
    "phantom = shepp_logan(N_pixels)\n",
    "\n",
    "S, D, theta, beta, fan_angle, delta_beta = setup_geometry(\n",
    "    D_so, D_sd, R_obj, N_det, N_views, view_range, mode\n",
    ")\n",
    "\n",
    "anim = animate_S_D(S, D, phantom)\n",
    "HTML(anim.to_html5_video())\n",
    "\n",
    "# sinogram = acquire_fanbeam_projections(phantom, S, D)\n",
    "\n",
    "# filter = g(np.arange(-N_det / 2, N_det /2), delta_beta)\n",
    "\n",
    "# sinogram_filt = convolve(sinogram, filter.reshape(1, -1), mode=\"same\")\n",
    "\n",
    "# fig, axs = plt.subplots(1,3)\n",
    "\n",
    "# axs[0].imshow(sinogram, cmap=\"gray\")\n",
    "# axs[1].imshow(sinogram_filt, cmap=\"gray\")\n",
    "# axs[2].imshow(np.abs(sinogram - sinogram_filt), cmap=\"gray\")\n",
    "\n",
    "# plt.tight_layout()"
   ]
  },
  {
   "cell_type": "code",
   "execution_count": null,
   "id": "3",
   "metadata": {},
   "outputs": [],
   "source": [
    "import numpy as np\n",
    "\n",
    "S = S[0]\n",
    "D = D[0]\n",
    "\n",
    "# Plotting\n",
    "fig, ax = plt.subplots(figsize=(8, 6))\n",
    "ax.plot(S[0], S[1], \"ro\", label=\"Source\")  # plot source\n",
    "\n",
    "# Plot detector points\n",
    "ax.plot(D[:, 0], D[:, 1], \"bo\", label=\"Detectors\")\n",
    "\n",
    "# Plot rays and angles\n",
    "for i in range(N_det):\n",
    "    ax.plot([S[0], D[i, 0]], [S[1], D[i, 1]], \"k--\", alpha=0.6)\n",
    "    # Optional: annotate angles\n",
    "    midpoint = (S + D[i]) / 2\n",
    "    angle_deg = np.degrees(beta[i])\n",
    "    ax.text(midpoint[0], midpoint[1], f\"{angle_deg:.1f}°\", fontsize=8, ha=\"center\")\n",
    "\n",
    "# Aesthetics\n",
    "ax.set_aspect(\"equal\")\n",
    "ax.set_xlabel(\"X\")\n",
    "ax.set_ylabel(\"Y\")\n",
    "ax.legend()\n",
    "ax.set_title(\"Fan Beam Projection Geometry\")\n",
    "plt.grid(True)\n",
    "plt.show()"
   ]
  },
  {
   "cell_type": "code",
   "execution_count": null,
   "id": "4",
   "metadata": {},
   "outputs": [],
   "source": [
    "plt.figure()\n",
    "plt.plot(beta, label=\"Detector angles (beta)\")\n",
    "plt.title(\"Detector angle sweep\")\n",
    "plt.xlabel(\"Detector bin index\")\n",
    "plt.ylabel(\"Angle (rad)\")\n",
    "plt.grid(True)\n",
    "plt.legend()\n",
    "plt.show()"
   ]
  },
  {
   "cell_type": "code",
   "execution_count": null,
   "id": "5",
   "metadata": {},
   "outputs": [],
   "source": [
    "from src.reconstruct import compute_source_frame_coords\n",
    "\n",
    "gamma = compute_source_frame_coords(N_pixels, D_so, theta=theta)[\n",
    "    1\n",
    "]  # shape: [N_pixels, N_pixels, N_views]\n",
    "\n",
    "plt.figure()\n",
    "plt.plot(beta, label=\"Detector beta (rad)\")\n",
    "plt.title(\"Beta - detector angle values\")\n",
    "plt.xlabel(\"Detector index\")\n",
    "plt.ylabel(\"Angle (rad)\")\n",
    "plt.legend()\n",
    "plt.grid(True)\n",
    "plt.show()\n",
    "\n",
    "plt.figure()\n",
    "plt.imshow(gamma[:, :, 0], cmap=\"twilight\", origin=\"lower\")\n",
    "plt.title(\"Gamma angle map for first view\")\n",
    "plt.colorbar(label=\"Gamma (rad)\")\n",
    "plt.show()"
   ]
  }
 ],
 "metadata": {
  "kernelspec": {
   "display_name": ".venv",
   "language": "python",
   "name": "python3"
  },
  "language_info": {
   "codemirror_mode": {
    "name": "ipython",
    "version": 3
   },
   "file_extension": ".py",
   "mimetype": "text/x-python",
   "name": "python",
   "nbconvert_exporter": "python",
   "pygments_lexer": "ipython3",
   "version": "3.12.10"
  }
 },
 "nbformat": 4,
 "nbformat_minor": 5
}
